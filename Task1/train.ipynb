{
 "cells": [
  {
   "cell_type": "code",
   "execution_count": 7,
   "metadata": {},
   "outputs": [],
   "source": [
    "import numpy as np\n",
    "import pandas as pd\n",
    "from sklearn.linear_model import LinearRegression"
   ]
  },
  {
   "cell_type": "code",
   "execution_count": 13,
   "metadata": {},
   "outputs": [],
   "source": [
    "train_data = pd.read_csv('data/task1.training.csv')\n",
    "test_data = pd.read_csv('data/task1.test.csv')"
   ]
  },
  {
   "cell_type": "code",
   "execution_count": 16,
   "metadata": {},
   "outputs": [
    {
     "data": {
      "text/html": [
       "<div>\n",
       "<style scoped>\n",
       "    .dataframe tbody tr th:only-of-type {\n",
       "        vertical-align: middle;\n",
       "    }\n",
       "\n",
       "    .dataframe tbody tr th {\n",
       "        vertical-align: top;\n",
       "    }\n",
       "\n",
       "    .dataframe thead th {\n",
       "        text-align: right;\n",
       "    }\n",
       "</style>\n",
       "<table border=\"1\" class=\"dataframe\">\n",
       "  <thead>\n",
       "    <tr style=\"text-align: right;\">\n",
       "      <th></th>\n",
       "      <th>f0</th>\n",
       "      <th>f1</th>\n",
       "      <th>f2</th>\n",
       "      <th>f3</th>\n",
       "      <th>f4</th>\n",
       "      <th>f5</th>\n",
       "      <th>f6</th>\n",
       "      <th>f7</th>\n",
       "      <th>f8</th>\n",
       "      <th>f9</th>\n",
       "      <th>target</th>\n",
       "    </tr>\n",
       "  </thead>\n",
       "  <tbody>\n",
       "    <tr>\n",
       "      <th>0</th>\n",
       "      <td>12.3504</td>\n",
       "      <td>11.1348</td>\n",
       "      <td>12.2830</td>\n",
       "      <td>15.2634</td>\n",
       "      <td>2.1816</td>\n",
       "      <td>2.1481</td>\n",
       "      <td>0.5091</td>\n",
       "      <td>9.0213</td>\n",
       "      <td>12.4283</td>\n",
       "      <td>8.3838</td>\n",
       "      <td>13.1417</td>\n",
       "    </tr>\n",
       "    <tr>\n",
       "      <th>1</th>\n",
       "      <td>9.3637</td>\n",
       "      <td>12.2784</td>\n",
       "      <td>8.8222</td>\n",
       "      <td>2.0414</td>\n",
       "      <td>14.4623</td>\n",
       "      <td>3.5901</td>\n",
       "      <td>2.1357</td>\n",
       "      <td>13.4832</td>\n",
       "      <td>10.7378</td>\n",
       "      <td>15.1303</td>\n",
       "      <td>20.7985</td>\n",
       "    </tr>\n",
       "    <tr>\n",
       "      <th>2</th>\n",
       "      <td>13.2916</td>\n",
       "      <td>15.9057</td>\n",
       "      <td>16.4435</td>\n",
       "      <td>10.3739</td>\n",
       "      <td>5.7188</td>\n",
       "      <td>3.7080</td>\n",
       "      <td>5.6332</td>\n",
       "      <td>9.2375</td>\n",
       "      <td>10.4080</td>\n",
       "      <td>15.9636</td>\n",
       "      <td>11.3115</td>\n",
       "    </tr>\n",
       "    <tr>\n",
       "      <th>3</th>\n",
       "      <td>8.1896</td>\n",
       "      <td>11.4224</td>\n",
       "      <td>8.9549</td>\n",
       "      <td>14.1355</td>\n",
       "      <td>6.5579</td>\n",
       "      <td>2.7926</td>\n",
       "      <td>4.6686</td>\n",
       "      <td>8.8452</td>\n",
       "      <td>8.0353</td>\n",
       "      <td>15.0181</td>\n",
       "      <td>6.4268</td>\n",
       "    </tr>\n",
       "    <tr>\n",
       "      <th>4</th>\n",
       "      <td>9.3945</td>\n",
       "      <td>12.7940</td>\n",
       "      <td>6.9464</td>\n",
       "      <td>16.5530</td>\n",
       "      <td>4.2468</td>\n",
       "      <td>2.4466</td>\n",
       "      <td>5.4304</td>\n",
       "      <td>23.6392</td>\n",
       "      <td>8.3094</td>\n",
       "      <td>21.8089</td>\n",
       "      <td>19.0593</td>\n",
       "    </tr>\n",
       "  </tbody>\n",
       "</table>\n",
       "</div>"
      ],
      "text/plain": [
       "        f0       f1       f2       f3       f4      f5      f6       f7  \\\n",
       "0  12.3504  11.1348  12.2830  15.2634   2.1816  2.1481  0.5091   9.0213   \n",
       "1   9.3637  12.2784   8.8222   2.0414  14.4623  3.5901  2.1357  13.4832   \n",
       "2  13.2916  15.9057  16.4435  10.3739   5.7188  3.7080  5.6332   9.2375   \n",
       "3   8.1896  11.4224   8.9549  14.1355   6.5579  2.7926  4.6686   8.8452   \n",
       "4   9.3945  12.7940   6.9464  16.5530   4.2468  2.4466  5.4304  23.6392   \n",
       "\n",
       "        f8       f9   target  \n",
       "0  12.4283   8.3838  13.1417  \n",
       "1  10.7378  15.1303  20.7985  \n",
       "2  10.4080  15.9636  11.3115  \n",
       "3   8.0353  15.0181   6.4268  \n",
       "4   8.3094  21.8089  19.0593  "
      ]
     },
     "execution_count": 16,
     "metadata": {},
     "output_type": "execute_result"
    }
   ],
   "source": [
    "train_data.head()"
   ]
  },
  {
   "cell_type": "code",
   "execution_count": 15,
   "metadata": {},
   "outputs": [
    {
     "data": {
      "text/html": [
       "<div>\n",
       "<style scoped>\n",
       "    .dataframe tbody tr th:only-of-type {\n",
       "        vertical-align: middle;\n",
       "    }\n",
       "\n",
       "    .dataframe tbody tr th {\n",
       "        vertical-align: top;\n",
       "    }\n",
       "\n",
       "    .dataframe thead th {\n",
       "        text-align: right;\n",
       "    }\n",
       "</style>\n",
       "<table border=\"1\" class=\"dataframe\">\n",
       "  <thead>\n",
       "    <tr style=\"text-align: right;\">\n",
       "      <th></th>\n",
       "      <th>f0</th>\n",
       "      <th>f1</th>\n",
       "      <th>f2</th>\n",
       "      <th>f3</th>\n",
       "      <th>f4</th>\n",
       "      <th>f5</th>\n",
       "      <th>f6</th>\n",
       "      <th>f7</th>\n",
       "      <th>f8</th>\n",
       "      <th>f9</th>\n",
       "    </tr>\n",
       "  </thead>\n",
       "  <tbody>\n",
       "    <tr>\n",
       "      <th>0</th>\n",
       "      <td>7.6329</td>\n",
       "      <td>13.4432</td>\n",
       "      <td>9.9584</td>\n",
       "      <td>16.3592</td>\n",
       "      <td>3.4026</td>\n",
       "      <td>1.7659</td>\n",
       "      <td>4.8841</td>\n",
       "      <td>7.3397</td>\n",
       "      <td>13.3545</td>\n",
       "      <td>8.4885</td>\n",
       "    </tr>\n",
       "    <tr>\n",
       "      <th>1</th>\n",
       "      <td>6.2876</td>\n",
       "      <td>11.7434</td>\n",
       "      <td>6.5261</td>\n",
       "      <td>10.9504</td>\n",
       "      <td>13.7244</td>\n",
       "      <td>3.9822</td>\n",
       "      <td>4.2543</td>\n",
       "      <td>21.1978</td>\n",
       "      <td>8.8746</td>\n",
       "      <td>21.3289</td>\n",
       "    </tr>\n",
       "    <tr>\n",
       "      <th>2</th>\n",
       "      <td>22.9674</td>\n",
       "      <td>8.3471</td>\n",
       "      <td>20.0081</td>\n",
       "      <td>6.2702</td>\n",
       "      <td>12.8704</td>\n",
       "      <td>3.0460</td>\n",
       "      <td>3.6708</td>\n",
       "      <td>9.3951</td>\n",
       "      <td>13.4790</td>\n",
       "      <td>16.4925</td>\n",
       "    </tr>\n",
       "    <tr>\n",
       "      <th>3</th>\n",
       "      <td>15.5542</td>\n",
       "      <td>7.6542</td>\n",
       "      <td>19.7750</td>\n",
       "      <td>8.9039</td>\n",
       "      <td>14.8486</td>\n",
       "      <td>2.5263</td>\n",
       "      <td>5.2081</td>\n",
       "      <td>7.3062</td>\n",
       "      <td>12.2139</td>\n",
       "      <td>6.1679</td>\n",
       "    </tr>\n",
       "    <tr>\n",
       "      <th>4</th>\n",
       "      <td>15.0104</td>\n",
       "      <td>11.0666</td>\n",
       "      <td>12.5987</td>\n",
       "      <td>8.4455</td>\n",
       "      <td>14.9655</td>\n",
       "      <td>1.7026</td>\n",
       "      <td>3.0925</td>\n",
       "      <td>9.2699</td>\n",
       "      <td>10.2017</td>\n",
       "      <td>8.4909</td>\n",
       "    </tr>\n",
       "  </tbody>\n",
       "</table>\n",
       "</div>"
      ],
      "text/plain": [
       "        f0       f1       f2       f3       f4      f5      f6       f7  \\\n",
       "0   7.6329  13.4432   9.9584  16.3592   3.4026  1.7659  4.8841   7.3397   \n",
       "1   6.2876  11.7434   6.5261  10.9504  13.7244  3.9822  4.2543  21.1978   \n",
       "2  22.9674   8.3471  20.0081   6.2702  12.8704  3.0460  3.6708   9.3951   \n",
       "3  15.5542   7.6542  19.7750   8.9039  14.8486  2.5263  5.2081   7.3062   \n",
       "4  15.0104  11.0666  12.5987   8.4455  14.9655  1.7026  3.0925   9.2699   \n",
       "\n",
       "        f8       f9  \n",
       "0  13.3545   8.4885  \n",
       "1   8.8746  21.3289  \n",
       "2  13.4790  16.4925  \n",
       "3  12.2139   6.1679  \n",
       "4  10.2017   8.4909  "
      ]
     },
     "execution_count": 15,
     "metadata": {},
     "output_type": "execute_result"
    }
   ],
   "source": [
    "test_data.head()"
   ]
  },
  {
   "cell_type": "code",
   "execution_count": 5,
   "metadata": {},
   "outputs": [],
   "source": [
    "y = train_data['target']\n",
    "x = train_data[['f0','f1','f2','f3','f4','f5','f6','f7','f8','f9']]"
   ]
  },
  {
   "cell_type": "code",
   "execution_count": 8,
   "metadata": {},
   "outputs": [],
   "source": [
    "linear_regression = LinearRegression()"
   ]
  },
  {
   "cell_type": "code",
   "execution_count": 10,
   "metadata": {},
   "outputs": [
    {
     "data": {
      "text/plain": [
       "LinearRegression()"
      ]
     },
     "execution_count": 10,
     "metadata": {},
     "output_type": "execute_result"
    }
   ],
   "source": [
    "linear_regression.fit(x,y)"
   ]
  },
  {
   "cell_type": "code",
   "execution_count": 17,
   "metadata": {},
   "outputs": [],
   "source": [
    "test_x = test_data[['f0','f1','f2','f3','f4','f5','f6','f7','f8','f9']]"
   ]
  },
  {
   "cell_type": "code",
   "execution_count": 18,
   "metadata": {},
   "outputs": [],
   "source": [
    "y_pred = linear_regression.predict(test_x)"
   ]
  },
  {
   "cell_type": "code",
   "execution_count": 41,
   "metadata": {},
   "outputs": [],
   "source": [
    "number = np.arange(1,len(y_pred)+1)"
   ]
  },
  {
   "cell_type": "code",
   "execution_count": 42,
   "metadata": {
    "scrolled": true
   },
   "outputs": [
    {
     "data": {
      "text/html": [
       "<div>\n",
       "<style scoped>\n",
       "    .dataframe tbody tr th:only-of-type {\n",
       "        vertical-align: middle;\n",
       "    }\n",
       "\n",
       "    .dataframe tbody tr th {\n",
       "        vertical-align: top;\n",
       "    }\n",
       "\n",
       "    .dataframe thead th {\n",
       "        text-align: right;\n",
       "    }\n",
       "</style>\n",
       "<table border=\"1\" class=\"dataframe\">\n",
       "  <thead>\n",
       "    <tr style=\"text-align: right;\">\n",
       "      <th></th>\n",
       "      <th>id</th>\n",
       "      <th>Predicted</th>\n",
       "    </tr>\n",
       "  </thead>\n",
       "  <tbody>\n",
       "    <tr>\n",
       "      <th>0</th>\n",
       "      <td>1</td>\n",
       "      <td>13.1067</td>\n",
       "    </tr>\n",
       "    <tr>\n",
       "      <th>1</th>\n",
       "      <td>2</td>\n",
       "      <td>22.2923</td>\n",
       "    </tr>\n",
       "    <tr>\n",
       "      <th>2</th>\n",
       "      <td>3</td>\n",
       "      <td>22.3469</td>\n",
       "    </tr>\n",
       "    <tr>\n",
       "      <th>3</th>\n",
       "      <td>4</td>\n",
       "      <td>26.4337</td>\n",
       "    </tr>\n",
       "    <tr>\n",
       "      <th>4</th>\n",
       "      <td>5</td>\n",
       "      <td>58.2012</td>\n",
       "    </tr>\n",
       "  </tbody>\n",
       "</table>\n",
       "</div>"
      ],
      "text/plain": [
       "   id  Predicted\n",
       "0   1    13.1067\n",
       "1   2    22.2923\n",
       "2   3    22.3469\n",
       "3   4    26.4337\n",
       "4   5    58.2012"
      ]
     },
     "execution_count": 42,
     "metadata": {},
     "output_type": "execute_result"
    }
   ],
   "source": [
    "sample = pd.read_csv('data/sample.submission.csv')\n",
    "sample.head()"
   ]
  },
  {
   "cell_type": "code",
   "execution_count": 43,
   "metadata": {},
   "outputs": [],
   "source": [
    "submission = {'Id':number, 'Predicted':y_pred}\n",
    "df = pd.DataFrame(submission,  columns= ['Id', 'Predicted'])"
   ]
  },
  {
   "cell_type": "code",
   "execution_count": 46,
   "metadata": {},
   "outputs": [],
   "source": [
    "df.to_csv(\"submission.csv\", index = False, header=True)"
   ]
  },
  {
   "cell_type": "code",
   "execution_count": null,
   "metadata": {},
   "outputs": [],
   "source": []
  }
 ],
 "metadata": {
  "kernelspec": {
   "display_name": "Python 3",
   "language": "python",
   "name": "python3"
  },
  "language_info": {
   "codemirror_mode": {
    "name": "ipython",
    "version": 3
   },
   "file_extension": ".py",
   "mimetype": "text/x-python",
   "name": "python",
   "nbconvert_exporter": "python",
   "pygments_lexer": "ipython3",
   "version": "3.7.1"
  }
 },
 "nbformat": 4,
 "nbformat_minor": 4
}
