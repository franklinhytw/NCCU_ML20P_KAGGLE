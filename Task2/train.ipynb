{
 "cells": [
  {
   "cell_type": "code",
   "execution_count": 41,
   "metadata": {},
   "outputs": [],
   "source": [
    "import numpy as np\n",
    "import pandas as pd\n",
    "import matplotlib.pyplot as plt\n",
    "from sklearn.neural_network import MLPClassifier\n",
    "from sklearn.svm import SVC\n",
    "from sklearn.neighbors import KNeighborsClassifier\n",
    "from sklearn.model_selection import train_test_split"
   ]
  },
  {
   "cell_type": "code",
   "execution_count": 2,
   "metadata": {},
   "outputs": [],
   "source": [
    "train_data = pd.read_csv('data/task2.training.csv')\n",
    "test_data = pd.read_csv('data/task2.test.withOUT.answers.csv')"
   ]
  },
  {
   "cell_type": "code",
   "execution_count": 3,
   "metadata": {},
   "outputs": [
    {
     "data": {
      "text/html": [
       "<div>\n",
       "<style scoped>\n",
       "    .dataframe tbody tr th:only-of-type {\n",
       "        vertical-align: middle;\n",
       "    }\n",
       "\n",
       "    .dataframe tbody tr th {\n",
       "        vertical-align: top;\n",
       "    }\n",
       "\n",
       "    .dataframe thead th {\n",
       "        text-align: right;\n",
       "    }\n",
       "</style>\n",
       "<table border=\"1\" class=\"dataframe\">\n",
       "  <thead>\n",
       "    <tr style=\"text-align: right;\">\n",
       "      <th></th>\n",
       "      <th>f0</th>\n",
       "      <th>f1</th>\n",
       "      <th>f2</th>\n",
       "      <th>f3</th>\n",
       "      <th>f4</th>\n",
       "      <th>f5</th>\n",
       "      <th>f6</th>\n",
       "      <th>f7</th>\n",
       "      <th>f8</th>\n",
       "      <th>f9</th>\n",
       "      <th>f10</th>\n",
       "      <th>f11</th>\n",
       "      <th>f12</th>\n",
       "      <th>f13</th>\n",
       "      <th>f14</th>\n",
       "      <th>f15</th>\n",
       "      <th>class</th>\n",
       "    </tr>\n",
       "  </thead>\n",
       "  <tbody>\n",
       "    <tr>\n",
       "      <th>0</th>\n",
       "      <td>14.944831</td>\n",
       "      <td>13.285307</td>\n",
       "      <td>12.723919</td>\n",
       "      <td>13.463676</td>\n",
       "      <td>5.810218</td>\n",
       "      <td>3.289884</td>\n",
       "      <td>4.136561</td>\n",
       "      <td>28.489471</td>\n",
       "      <td>7.749849</td>\n",
       "      <td>19.930395</td>\n",
       "      <td>1.714926</td>\n",
       "      <td>4.460417</td>\n",
       "      <td>6.804720</td>\n",
       "      <td>1.634120</td>\n",
       "      <td>1.953905</td>\n",
       "      <td>6.953905</td>\n",
       "      <td>B</td>\n",
       "    </tr>\n",
       "    <tr>\n",
       "      <th>1</th>\n",
       "      <td>9.704532</td>\n",
       "      <td>11.693097</td>\n",
       "      <td>7.640653</td>\n",
       "      <td>12.882689</td>\n",
       "      <td>10.734195</td>\n",
       "      <td>3.500318</td>\n",
       "      <td>3.065383</td>\n",
       "      <td>7.919642</td>\n",
       "      <td>12.398902</td>\n",
       "      <td>6.492998</td>\n",
       "      <td>0.884071</td>\n",
       "      <td>-6.616096</td>\n",
       "      <td>-0.379083</td>\n",
       "      <td>-0.252927</td>\n",
       "      <td>-2.869022</td>\n",
       "      <td>2.130978</td>\n",
       "      <td>F</td>\n",
       "    </tr>\n",
       "    <tr>\n",
       "      <th>2</th>\n",
       "      <td>10.084863</td>\n",
       "      <td>10.928512</td>\n",
       "      <td>13.520339</td>\n",
       "      <td>3.314768</td>\n",
       "      <td>15.200482</td>\n",
       "      <td>2.570575</td>\n",
       "      <td>3.973462</td>\n",
       "      <td>13.145830</td>\n",
       "      <td>10.852524</td>\n",
       "      <td>12.795131</td>\n",
       "      <td>-8.056055</td>\n",
       "      <td>-9.801208</td>\n",
       "      <td>1.709430</td>\n",
       "      <td>0.694394</td>\n",
       "      <td>-3.528028</td>\n",
       "      <td>1.924525</td>\n",
       "      <td>E</td>\n",
       "    </tr>\n",
       "    <tr>\n",
       "      <th>3</th>\n",
       "      <td>7.793208</td>\n",
       "      <td>10.930903</td>\n",
       "      <td>9.893908</td>\n",
       "      <td>9.746585</td>\n",
       "      <td>14.427906</td>\n",
       "      <td>2.694425</td>\n",
       "      <td>1.478501</td>\n",
       "      <td>15.507213</td>\n",
       "      <td>10.907717</td>\n",
       "      <td>13.662531</td>\n",
       "      <td>-6.386868</td>\n",
       "      <td>-0.757737</td>\n",
       "      <td>1.498552</td>\n",
       "      <td>0.749759</td>\n",
       "      <td>-2.245774</td>\n",
       "      <td>2.754226</td>\n",
       "      <td>E</td>\n",
       "    </tr>\n",
       "    <tr>\n",
       "      <th>4</th>\n",
       "      <td>30.044518</td>\n",
       "      <td>9.543683</td>\n",
       "      <td>21.860615</td>\n",
       "      <td>1.639816</td>\n",
       "      <td>18.747398</td>\n",
       "      <td>1.088778</td>\n",
       "      <td>4.040136</td>\n",
       "      <td>9.021355</td>\n",
       "      <td>8.178172</td>\n",
       "      <td>17.315334</td>\n",
       "      <td>0.903312</td>\n",
       "      <td>-4.586912</td>\n",
       "      <td>1.897807</td>\n",
       "      <td>1.590331</td>\n",
       "      <td>0.951656</td>\n",
       "      <td>2.081506</td>\n",
       "      <td>C</td>\n",
       "    </tr>\n",
       "  </tbody>\n",
       "</table>\n",
       "</div>"
      ],
      "text/plain": [
       "          f0         f1         f2         f3         f4        f5        f6  \\\n",
       "0  14.944831  13.285307  12.723919  13.463676   5.810218  3.289884  4.136561   \n",
       "1   9.704532  11.693097   7.640653  12.882689  10.734195  3.500318  3.065383   \n",
       "2  10.084863  10.928512  13.520339   3.314768  15.200482  2.570575  3.973462   \n",
       "3   7.793208  10.930903   9.893908   9.746585  14.427906  2.694425  1.478501   \n",
       "4  30.044518   9.543683  21.860615   1.639816  18.747398  1.088778  4.040136   \n",
       "\n",
       "          f7         f8         f9       f10       f11       f12       f13  \\\n",
       "0  28.489471   7.749849  19.930395  1.714926  4.460417  6.804720  1.634120   \n",
       "1   7.919642  12.398902   6.492998  0.884071 -6.616096 -0.379083 -0.252927   \n",
       "2  13.145830  10.852524  12.795131 -8.056055 -9.801208  1.709430  0.694394   \n",
       "3  15.507213  10.907717  13.662531 -6.386868 -0.757737  1.498552  0.749759   \n",
       "4   9.021355   8.178172  17.315334  0.903312 -4.586912  1.897807  1.590331   \n",
       "\n",
       "        f14       f15 class  \n",
       "0  1.953905  6.953905     B  \n",
       "1 -2.869022  2.130978     F  \n",
       "2 -3.528028  1.924525     E  \n",
       "3 -2.245774  2.754226     E  \n",
       "4  0.951656  2.081506     C  "
      ]
     },
     "execution_count": 3,
     "metadata": {},
     "output_type": "execute_result"
    }
   ],
   "source": [
    "train_data.head()"
   ]
  },
  {
   "cell_type": "code",
   "execution_count": 4,
   "metadata": {},
   "outputs": [
    {
     "data": {
      "text/html": [
       "<div>\n",
       "<style scoped>\n",
       "    .dataframe tbody tr th:only-of-type {\n",
       "        vertical-align: middle;\n",
       "    }\n",
       "\n",
       "    .dataframe tbody tr th {\n",
       "        vertical-align: top;\n",
       "    }\n",
       "\n",
       "    .dataframe thead th {\n",
       "        text-align: right;\n",
       "    }\n",
       "</style>\n",
       "<table border=\"1\" class=\"dataframe\">\n",
       "  <thead>\n",
       "    <tr style=\"text-align: right;\">\n",
       "      <th></th>\n",
       "      <th>f0</th>\n",
       "      <th>f1</th>\n",
       "      <th>f2</th>\n",
       "      <th>f3</th>\n",
       "      <th>f4</th>\n",
       "      <th>f5</th>\n",
       "      <th>f6</th>\n",
       "      <th>f7</th>\n",
       "      <th>f8</th>\n",
       "      <th>f9</th>\n",
       "      <th>f10</th>\n",
       "      <th>f11</th>\n",
       "      <th>f12</th>\n",
       "      <th>f13</th>\n",
       "      <th>f14</th>\n",
       "      <th>f15</th>\n",
       "    </tr>\n",
       "  </thead>\n",
       "  <tbody>\n",
       "    <tr>\n",
       "      <th>0</th>\n",
       "      <td>9.1550</td>\n",
       "      <td>10.8587</td>\n",
       "      <td>12.2567</td>\n",
       "      <td>14.1652</td>\n",
       "      <td>5.9691</td>\n",
       "      <td>2.9726</td>\n",
       "      <td>3.2705</td>\n",
       "      <td>9.1836</td>\n",
       "      <td>10.4950</td>\n",
       "      <td>9.9999</td>\n",
       "      <td>-1.6673</td>\n",
       "      <td>5.5622</td>\n",
       "      <td>9.5622</td>\n",
       "      <td>1.1750</td>\n",
       "      <td>1.5674</td>\n",
       "      <td>6.5674</td>\n",
       "    </tr>\n",
       "    <tr>\n",
       "      <th>1</th>\n",
       "      <td>14.8276</td>\n",
       "      <td>6.4076</td>\n",
       "      <td>21.6141</td>\n",
       "      <td>3.2787</td>\n",
       "      <td>17.9396</td>\n",
       "      <td>3.6189</td>\n",
       "      <td>4.4066</td>\n",
       "      <td>14.1557</td>\n",
       "      <td>11.2347</td>\n",
       "      <td>17.0264</td>\n",
       "      <td>0.7419</td>\n",
       "      <td>-8.5567</td>\n",
       "      <td>2.8029</td>\n",
       "      <td>1.5742</td>\n",
       "      <td>0.8709</td>\n",
       "      <td>2.2177</td>\n",
       "    </tr>\n",
       "    <tr>\n",
       "      <th>2</th>\n",
       "      <td>7.6751</td>\n",
       "      <td>10.7449</td>\n",
       "      <td>9.4100</td>\n",
       "      <td>10.8543</td>\n",
       "      <td>10.0576</td>\n",
       "      <td>1.4114</td>\n",
       "      <td>5.0343</td>\n",
       "      <td>9.0363</td>\n",
       "      <td>11.2918</td>\n",
       "      <td>7.2520</td>\n",
       "      <td>0.2955</td>\n",
       "      <td>-7.2688</td>\n",
       "      <td>-7.7896</td>\n",
       "      <td>0.0579</td>\n",
       "      <td>-3.2881</td>\n",
       "      <td>1.7119</td>\n",
       "    </tr>\n",
       "    <tr>\n",
       "      <th>3</th>\n",
       "      <td>13.5365</td>\n",
       "      <td>13.6176</td>\n",
       "      <td>15.0497</td>\n",
       "      <td>4.8754</td>\n",
       "      <td>15.0808</td>\n",
       "      <td>3.0575</td>\n",
       "      <td>0.2889</td>\n",
       "      <td>25.3329</td>\n",
       "      <td>7.4031</td>\n",
       "      <td>20.4226</td>\n",
       "      <td>-5.9259</td>\n",
       "      <td>-6.7842</td>\n",
       "      <td>7.5133</td>\n",
       "      <td>1.7522</td>\n",
       "      <td>-3.8245</td>\n",
       "      <td>6.7611</td>\n",
       "    </tr>\n",
       "    <tr>\n",
       "      <th>4</th>\n",
       "      <td>9.3010</td>\n",
       "      <td>12.4989</td>\n",
       "      <td>15.8222</td>\n",
       "      <td>6.1455</td>\n",
       "      <td>11.2682</td>\n",
       "      <td>2.0778</td>\n",
       "      <td>0.2968</td>\n",
       "      <td>7.2631</td>\n",
       "      <td>12.4014</td>\n",
       "      <td>9.2282</td>\n",
       "      <td>-9.3013</td>\n",
       "      <td>-0.3604</td>\n",
       "      <td>3.6396</td>\n",
       "      <td>0.6654</td>\n",
       "      <td>-2.8088</td>\n",
       "      <td>2.1912</td>\n",
       "    </tr>\n",
       "  </tbody>\n",
       "</table>\n",
       "</div>"
      ],
      "text/plain": [
       "        f0       f1       f2       f3       f4      f5      f6       f7  \\\n",
       "0   9.1550  10.8587  12.2567  14.1652   5.9691  2.9726  3.2705   9.1836   \n",
       "1  14.8276   6.4076  21.6141   3.2787  17.9396  3.6189  4.4066  14.1557   \n",
       "2   7.6751  10.7449   9.4100  10.8543  10.0576  1.4114  5.0343   9.0363   \n",
       "3  13.5365  13.6176  15.0497   4.8754  15.0808  3.0575  0.2889  25.3329   \n",
       "4   9.3010  12.4989  15.8222   6.1455  11.2682  2.0778  0.2968   7.2631   \n",
       "\n",
       "        f8       f9     f10     f11     f12     f13     f14     f15  \n",
       "0  10.4950   9.9999 -1.6673  5.5622  9.5622  1.1750  1.5674  6.5674  \n",
       "1  11.2347  17.0264  0.7419 -8.5567  2.8029  1.5742  0.8709  2.2177  \n",
       "2  11.2918   7.2520  0.2955 -7.2688 -7.7896  0.0579 -3.2881  1.7119  \n",
       "3   7.4031  20.4226 -5.9259 -6.7842  7.5133  1.7522 -3.8245  6.7611  \n",
       "4  12.4014   9.2282 -9.3013 -0.3604  3.6396  0.6654 -2.8088  2.1912  "
      ]
     },
     "execution_count": 4,
     "metadata": {},
     "output_type": "execute_result"
    }
   ],
   "source": [
    "test_data.head()"
   ]
  },
  {
   "cell_type": "code",
   "execution_count": 142,
   "metadata": {},
   "outputs": [],
   "source": [
    "y = train_data['class']\n",
    "x = train_data[['f0','f1','f2','f3','f4','f5','f6','f7','f8','f9','f10','f11','f12','f13','f14','f15']]\n",
    "\n",
    "train_data_ans = train_data['class']\n",
    "train_data_set = train_data[['f0','f1','f2','f3','f4','f5','f6','f7','f8','f9','f10','f11','f12','f13','f14','f15']]"
   ]
  },
  {
   "cell_type": "code",
   "execution_count": 143,
   "metadata": {},
   "outputs": [],
   "source": [
    "# Split training data for test data\n",
    "sp_train_data, sp_test_data = train_test_split(train_data, test_size=0.1, random_state=100)\n",
    "\n",
    "sp_train_data_ans = sp_train_data['class']\n",
    "sp_train_data_set = sp_train_data[['f0','f1','f2','f3','f4','f5','f6','f7','f8','f9','f10','f11','f12','f13','f14','f15']]\n",
    "\n",
    "sp_test_data_ans = sp_test_data['class']\n",
    "sp_test_data_set = sp_test_data[['f0','f1','f2','f3','f4','f5','f6','f7','f8','f9','f10','f11','f12','f13','f14','f15']]"
   ]
  },
  {
   "cell_type": "code",
   "execution_count": 87,
   "metadata": {},
   "outputs": [
    {
     "data": {
      "text/plain": [
       "9000"
      ]
     },
     "execution_count": 87,
     "metadata": {},
     "output_type": "execute_result"
    }
   ],
   "source": [
    "len(sp_train_data_ans)"
   ]
  },
  {
   "cell_type": "code",
   "execution_count": 88,
   "metadata": {},
   "outputs": [
    {
     "data": {
      "text/plain": [
       "1000"
      ]
     },
     "execution_count": 88,
     "metadata": {},
     "output_type": "execute_result"
    }
   ],
   "source": [
    "len(sp_test_data_ans)"
   ]
  },
  {
   "cell_type": "code",
   "execution_count": 218,
   "metadata": {},
   "outputs": [
    {
     "name": "stdout",
     "output_type": "stream",
     "text": [
      "[LibSVM]"
     ]
    },
    {
     "data": {
      "text/plain": [
       "SVC(C=40.0, kernel='linear', random_state=10, verbose=1)"
      ]
     },
     "execution_count": 218,
     "metadata": {},
     "output_type": "execute_result"
    }
   ],
   "source": [
    "svc = SVC(C=40.0, kernel='linear', verbose=1, random_state = 10)\n",
    "svc.fit(train_data_set, train_data_ans)"
   ]
  },
  {
   "cell_type": "code",
   "execution_count": 219,
   "metadata": {},
   "outputs": [
    {
     "name": "stdout",
     "output_type": "stream",
     "text": [
      "0.999\n"
     ]
    }
   ],
   "source": [
    "print(svc.score(sp_test_data_set, sp_test_data_ans))"
   ]
  },
  {
   "cell_type": "code",
   "execution_count": 247,
   "metadata": {},
   "outputs": [],
   "source": [
    "# MLP Training\n",
    "# clf = MLPClassifier(solver='sgd', activation='relu',hidden_layer_sizes=(500, 500, 500), random_state=1, max_iter=3000,verbose=10)\n",
    "clf = MLPClassifier(alpha=1e-05, hidden_layer_sizes=(15,), random_state=1,\n",
    "              solver='lbfgs', max_iter=10000000, verbose=10)"
   ]
  },
  {
   "cell_type": "code",
   "execution_count": 248,
   "metadata": {},
   "outputs": [
    {
     "data": {
      "text/plain": [
       "MLPClassifier(max_iter=10000000, random_state=1, solver='lbfgs', verbose=10)"
      ]
     },
     "execution_count": 248,
     "metadata": {},
     "output_type": "execute_result"
    }
   ],
   "source": [
    "clf.fit(train_data_set, train_data_ans)"
   ]
  },
  {
   "cell_type": "code",
   "execution_count": 250,
   "metadata": {},
   "outputs": [
    {
     "name": "stdout",
     "output_type": "stream",
     "text": [
      "1.0\n",
      "3\n",
      "4280\n",
      "6\n",
      "0.00015018128804671516\n",
      "softmax\n"
     ]
    }
   ],
   "source": [
    "# MLP Training Output\n",
    "print(clf.score(sp_test_data_set, sp_test_data_ans))\n",
    "print(clf.n_layers_)\n",
    "print(clf.n_iter_)\n",
    "print(clf.n_outputs_)\n",
    "print(clf.loss_)\n",
    "print(clf.out_activation_)"
   ]
  },
  {
   "cell_type": "code",
   "execution_count": 8,
   "metadata": {},
   "outputs": [],
   "source": [
    "test_x = test_data[['f0','f1','f2','f3','f4','f5','f6','f7','f8','f9','f10','f11','f12','f13','f14','f15']]"
   ]
  },
  {
   "cell_type": "code",
   "execution_count": 25,
   "metadata": {},
   "outputs": [
    {
     "data": {
      "text/plain": [
       "array([[4.47041594e-14, 1.48661609e-07, 5.26101289e-03, 9.92892884e-01,\n",
       "        1.84595466e-03, 7.10876340e-17],\n",
       "       [1.23554075e-10, 1.58179038e-02, 9.84113354e-01, 6.87422030e-05,\n",
       "        7.50943381e-14, 1.38672423e-38],\n",
       "       [1.61101440e-34, 2.53142774e-24, 1.82323959e-14, 7.75263910e-05,\n",
       "        9.30466759e-01, 6.94557143e-02],\n",
       "       ...,\n",
       "       [1.15690325e-10, 6.19307718e-03, 9.93744697e-01, 6.22253235e-05,\n",
       "        8.93517824e-15, 1.31593822e-41],\n",
       "       [3.14025810e-62, 3.87808300e-56, 4.02034682e-43, 1.43750874e-28,\n",
       "        1.06450145e-14, 1.00000000e+00],\n",
       "       [2.07451270e-09, 2.00214407e-03, 9.89433854e-01, 8.56399964e-03,\n",
       "        1.24435065e-10, 3.45726484e-33]])"
      ]
     },
     "execution_count": 25,
     "metadata": {},
     "output_type": "execute_result"
    }
   ],
   "source": [
    "output_clf.predict_proba(test_x)"
   ]
  },
  {
   "cell_type": "code",
   "execution_count": 222,
   "metadata": {},
   "outputs": [
    {
     "name": "stdout",
     "output_type": "stream",
     "text": [
      "['D' 'C' 'E' ... 'C' 'F' 'C']\n"
     ]
    }
   ],
   "source": [
    "y_pred = svc.predict(test_x)\n",
    "print(y_pred)"
   ]
  },
  {
   "cell_type": "code",
   "execution_count": 223,
   "metadata": {},
   "outputs": [],
   "source": [
    "number = np.arange(1,len(y_pred)+1)"
   ]
  },
  {
   "cell_type": "code",
   "execution_count": 224,
   "metadata": {
    "scrolled": true
   },
   "outputs": [
    {
     "data": {
      "text/html": [
       "<div>\n",
       "<style scoped>\n",
       "    .dataframe tbody tr th:only-of-type {\n",
       "        vertical-align: middle;\n",
       "    }\n",
       "\n",
       "    .dataframe tbody tr th {\n",
       "        vertical-align: top;\n",
       "    }\n",
       "\n",
       "    .dataframe thead th {\n",
       "        text-align: right;\n",
       "    }\n",
       "</style>\n",
       "<table border=\"1\" class=\"dataframe\">\n",
       "  <thead>\n",
       "    <tr style=\"text-align: right;\">\n",
       "      <th></th>\n",
       "      <th>id</th>\n",
       "      <th>Predicted</th>\n",
       "    </tr>\n",
       "  </thead>\n",
       "  <tbody>\n",
       "    <tr>\n",
       "      <th>0</th>\n",
       "      <td>1</td>\n",
       "      <td>A</td>\n",
       "    </tr>\n",
       "    <tr>\n",
       "      <th>1</th>\n",
       "      <td>2</td>\n",
       "      <td>B</td>\n",
       "    </tr>\n",
       "    <tr>\n",
       "      <th>2</th>\n",
       "      <td>3</td>\n",
       "      <td>C</td>\n",
       "    </tr>\n",
       "    <tr>\n",
       "      <th>3</th>\n",
       "      <td>4</td>\n",
       "      <td>D</td>\n",
       "    </tr>\n",
       "    <tr>\n",
       "      <th>4</th>\n",
       "      <td>5</td>\n",
       "      <td>E</td>\n",
       "    </tr>\n",
       "  </tbody>\n",
       "</table>\n",
       "</div>"
      ],
      "text/plain": [
       "   id Predicted\n",
       "0   1         A\n",
       "1   2         B\n",
       "2   3         C\n",
       "3   4         D\n",
       "4   5         E"
      ]
     },
     "execution_count": 224,
     "metadata": {},
     "output_type": "execute_result"
    }
   ],
   "source": [
    "sample = pd.read_csv('data/sampleAnswers.csv')\n",
    "sample.head()"
   ]
  },
  {
   "cell_type": "code",
   "execution_count": 225,
   "metadata": {},
   "outputs": [],
   "source": [
    "submission = {'Id':number, 'Predicted':y_pred}\n",
    "df = pd.DataFrame(submission,  columns= ['Id', 'Predicted'])"
   ]
  },
  {
   "cell_type": "code",
   "execution_count": 226,
   "metadata": {},
   "outputs": [],
   "source": [
    "df.to_csv(\"submission.csv\", index = False, header=True)"
   ]
  },
  {
   "cell_type": "code",
   "execution_count": null,
   "metadata": {},
   "outputs": [],
   "source": []
  }
 ],
 "metadata": {
  "kernelspec": {
   "display_name": "Python 3",
   "language": "python",
   "name": "python3"
  },
  "language_info": {
   "codemirror_mode": {
    "name": "ipython",
    "version": 3
   },
   "file_extension": ".py",
   "mimetype": "text/x-python",
   "name": "python",
   "nbconvert_exporter": "python",
   "pygments_lexer": "ipython3",
   "version": "3.8.5"
  }
 },
 "nbformat": 4,
 "nbformat_minor": 4
}
