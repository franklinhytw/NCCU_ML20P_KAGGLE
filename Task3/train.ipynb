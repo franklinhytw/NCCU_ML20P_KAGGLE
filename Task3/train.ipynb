{
 "cells": [
  {
   "cell_type": "code",
   "execution_count": 51,
   "metadata": {},
   "outputs": [],
   "source": [
    "import numpy as np\n",
    "import pandas as pd\n",
    "import matplotlib.pyplot as plt\n",
    "from sklearn.neural_network import MLPClassifier\n",
    "from sklearn.svm import SVC\n",
    "from sklearn.neighbors import KNeighborsClassifier\n",
    "from sklearn.model_selection import train_test_split"
   ]
  },
  {
   "cell_type": "code",
   "execution_count": 52,
   "metadata": {},
   "outputs": [],
   "source": [
    "train_data = pd.read_csv('data/task3.training.csv')\n",
    "test_data = pd.read_csv('data/task3.test.WITHOUT.answers.csv')"
   ]
  },
  {
   "cell_type": "code",
   "execution_count": 53,
   "metadata": {},
   "outputs": [
    {
     "data": {
      "text/html": [
       "<div>\n",
       "<style scoped>\n",
       "    .dataframe tbody tr th:only-of-type {\n",
       "        vertical-align: middle;\n",
       "    }\n",
       "\n",
       "    .dataframe tbody tr th {\n",
       "        vertical-align: top;\n",
       "    }\n",
       "\n",
       "    .dataframe thead th {\n",
       "        text-align: right;\n",
       "    }\n",
       "</style>\n",
       "<table border=\"1\" class=\"dataframe\">\n",
       "  <thead>\n",
       "    <tr style=\"text-align: right;\">\n",
       "      <th></th>\n",
       "      <th>f0</th>\n",
       "      <th>f1</th>\n",
       "      <th>f2</th>\n",
       "      <th>f3</th>\n",
       "      <th>f4</th>\n",
       "      <th>f5</th>\n",
       "      <th>f6</th>\n",
       "      <th>f7</th>\n",
       "      <th>f8</th>\n",
       "      <th>f9</th>\n",
       "      <th>...</th>\n",
       "      <th>f14</th>\n",
       "      <th>f15</th>\n",
       "      <th>f16</th>\n",
       "      <th>f17</th>\n",
       "      <th>f18</th>\n",
       "      <th>f19</th>\n",
       "      <th>f20</th>\n",
       "      <th>f21</th>\n",
       "      <th>f22</th>\n",
       "      <th>class</th>\n",
       "    </tr>\n",
       "  </thead>\n",
       "  <tbody>\n",
       "    <tr>\n",
       "      <th>0</th>\n",
       "      <td>8.8269</td>\n",
       "      <td>11.2924</td>\n",
       "      <td>9.0146</td>\n",
       "      <td>15.7018</td>\n",
       "      <td>3.0100</td>\n",
       "      <td>1.0697</td>\n",
       "      <td>5.8724</td>\n",
       "      <td>20.0306</td>\n",
       "      <td>5.6681</td>\n",
       "      <td>21.9147</td>\n",
       "      <td>...</td>\n",
       "      <td>-2.9938</td>\n",
       "      <td>2.0062</td>\n",
       "      <td>-8.7261</td>\n",
       "      <td>-15.5238</td>\n",
       "      <td>3.5446</td>\n",
       "      <td>-7.5736</td>\n",
       "      <td>-8.1446</td>\n",
       "      <td>0.0863</td>\n",
       "      <td>6.4086</td>\n",
       "      <td>B</td>\n",
       "    </tr>\n",
       "    <tr>\n",
       "      <th>1</th>\n",
       "      <td>22.6570</td>\n",
       "      <td>9.0434</td>\n",
       "      <td>19.1275</td>\n",
       "      <td>18.9879</td>\n",
       "      <td>5.3184</td>\n",
       "      <td>2.0965</td>\n",
       "      <td>5.9943</td>\n",
       "      <td>7.9084</td>\n",
       "      <td>11.5668</td>\n",
       "      <td>9.0095</td>\n",
       "      <td>...</td>\n",
       "      <td>-6.2045</td>\n",
       "      <td>-1.2045</td>\n",
       "      <td>-13.4658</td>\n",
       "      <td>-12.2388</td>\n",
       "      <td>0.2718</td>\n",
       "      <td>-9.4839</td>\n",
       "      <td>-20.2076</td>\n",
       "      <td>7.0234</td>\n",
       "      <td>0.1967</td>\n",
       "      <td>J</td>\n",
       "    </tr>\n",
       "    <tr>\n",
       "      <th>2</th>\n",
       "      <td>14.5590</td>\n",
       "      <td>11.6271</td>\n",
       "      <td>14.7048</td>\n",
       "      <td>15.6355</td>\n",
       "      <td>3.7791</td>\n",
       "      <td>2.9636</td>\n",
       "      <td>4.4687</td>\n",
       "      <td>11.1210</td>\n",
       "      <td>10.2046</td>\n",
       "      <td>16.9536</td>\n",
       "      <td>...</td>\n",
       "      <td>-2.6442</td>\n",
       "      <td>2.3558</td>\n",
       "      <td>3.7904</td>\n",
       "      <td>5.6663</td>\n",
       "      <td>0.5139</td>\n",
       "      <td>3.7904</td>\n",
       "      <td>-2.1275</td>\n",
       "      <td>2.8793</td>\n",
       "      <td>0.4225</td>\n",
       "      <td>H</td>\n",
       "    </tr>\n",
       "    <tr>\n",
       "      <th>3</th>\n",
       "      <td>9.2036</td>\n",
       "      <td>13.8966</td>\n",
       "      <td>9.0603</td>\n",
       "      <td>2.7157</td>\n",
       "      <td>14.6784</td>\n",
       "      <td>2.0528</td>\n",
       "      <td>3.0575</td>\n",
       "      <td>13.4890</td>\n",
       "      <td>8.3891</td>\n",
       "      <td>13.9828</td>\n",
       "      <td>...</td>\n",
       "      <td>-1.5029</td>\n",
       "      <td>1.7215</td>\n",
       "      <td>0.6950</td>\n",
       "      <td>-1.3434</td>\n",
       "      <td>0.5821</td>\n",
       "      <td>0.6950</td>\n",
       "      <td>-13.3325</td>\n",
       "      <td>10.5075</td>\n",
       "      <td>0.2354</td>\n",
       "      <td>G</td>\n",
       "    </tr>\n",
       "    <tr>\n",
       "      <th>4</th>\n",
       "      <td>27.9246</td>\n",
       "      <td>6.8708</td>\n",
       "      <td>19.1740</td>\n",
       "      <td>10.5967</td>\n",
       "      <td>9.7137</td>\n",
       "      <td>3.2531</td>\n",
       "      <td>3.1151</td>\n",
       "      <td>30.7808</td>\n",
       "      <td>6.8123</td>\n",
       "      <td>19.9058</td>\n",
       "      <td>...</td>\n",
       "      <td>-0.1046</td>\n",
       "      <td>4.8954</td>\n",
       "      <td>-0.9198</td>\n",
       "      <td>-9.5543</td>\n",
       "      <td>5.0745</td>\n",
       "      <td>-2.5613</td>\n",
       "      <td>-1.7515</td>\n",
       "      <td>0.1457</td>\n",
       "      <td>5.9005</td>\n",
       "      <td>G</td>\n",
       "    </tr>\n",
       "  </tbody>\n",
       "</table>\n",
       "<p>5 rows × 24 columns</p>\n",
       "</div>"
      ],
      "text/plain": [
       "        f0       f1       f2       f3       f4      f5      f6       f7  \\\n",
       "0   8.8269  11.2924   9.0146  15.7018   3.0100  1.0697  5.8724  20.0306   \n",
       "1  22.6570   9.0434  19.1275  18.9879   5.3184  2.0965  5.9943   7.9084   \n",
       "2  14.5590  11.6271  14.7048  15.6355   3.7791  2.9636  4.4687  11.1210   \n",
       "3   9.2036  13.8966   9.0603   2.7157  14.6784  2.0528  3.0575  13.4890   \n",
       "4  27.9246   6.8708  19.1740  10.5967   9.7137  3.2531  3.1151  30.7808   \n",
       "\n",
       "        f8       f9  ...     f14     f15      f16      f17     f18     f19  \\\n",
       "0   5.6681  21.9147  ... -2.9938  2.0062  -8.7261 -15.5238  3.5446 -7.5736   \n",
       "1  11.5668   9.0095  ... -6.2045 -1.2045 -13.4658 -12.2388  0.2718 -9.4839   \n",
       "2  10.2046  16.9536  ... -2.6442  2.3558   3.7904   5.6663  0.5139  3.7904   \n",
       "3   8.3891  13.9828  ... -1.5029  1.7215   0.6950  -1.3434  0.5821  0.6950   \n",
       "4   6.8123  19.9058  ... -0.1046  4.8954  -0.9198  -9.5543  5.0745 -2.5613   \n",
       "\n",
       "       f20      f21     f22  class  \n",
       "0  -8.1446   0.0863  6.4086      B  \n",
       "1 -20.2076   7.0234  0.1967      J  \n",
       "2  -2.1275   2.8793  0.4225      H  \n",
       "3 -13.3325  10.5075  0.2354      G  \n",
       "4  -1.7515   0.1457  5.9005      G  \n",
       "\n",
       "[5 rows x 24 columns]"
      ]
     },
     "execution_count": 53,
     "metadata": {},
     "output_type": "execute_result"
    }
   ],
   "source": [
    "train_data.head()"
   ]
  },
  {
   "cell_type": "code",
   "execution_count": 54,
   "metadata": {},
   "outputs": [
    {
     "data": {
      "text/html": [
       "<div>\n",
       "<style scoped>\n",
       "    .dataframe tbody tr th:only-of-type {\n",
       "        vertical-align: middle;\n",
       "    }\n",
       "\n",
       "    .dataframe tbody tr th {\n",
       "        vertical-align: top;\n",
       "    }\n",
       "\n",
       "    .dataframe thead th {\n",
       "        text-align: right;\n",
       "    }\n",
       "</style>\n",
       "<table border=\"1\" class=\"dataframe\">\n",
       "  <thead>\n",
       "    <tr style=\"text-align: right;\">\n",
       "      <th></th>\n",
       "      <th>f0</th>\n",
       "      <th>f1</th>\n",
       "      <th>f2</th>\n",
       "      <th>f3</th>\n",
       "      <th>f4</th>\n",
       "      <th>f5</th>\n",
       "      <th>f6</th>\n",
       "      <th>f7</th>\n",
       "      <th>f8</th>\n",
       "      <th>f9</th>\n",
       "      <th>...</th>\n",
       "      <th>f13</th>\n",
       "      <th>f14</th>\n",
       "      <th>f15</th>\n",
       "      <th>f16</th>\n",
       "      <th>f17</th>\n",
       "      <th>f18</th>\n",
       "      <th>f19</th>\n",
       "      <th>f20</th>\n",
       "      <th>f21</th>\n",
       "      <th>f22</th>\n",
       "    </tr>\n",
       "  </thead>\n",
       "  <tbody>\n",
       "    <tr>\n",
       "      <th>0</th>\n",
       "      <td>15.9510</td>\n",
       "      <td>8.8893</td>\n",
       "      <td>17.5399</td>\n",
       "      <td>9.1624</td>\n",
       "      <td>14.8633</td>\n",
       "      <td>0.5092</td>\n",
       "      <td>4.0896</td>\n",
       "      <td>26.0658</td>\n",
       "      <td>4.8679</td>\n",
       "      <td>21.1590</td>\n",
       "      <td>...</td>\n",
       "      <td>2.3355</td>\n",
       "      <td>-11.1718</td>\n",
       "      <td>9.6776</td>\n",
       "      <td>-16.1713</td>\n",
       "      <td>-13.3087</td>\n",
       "      <td>0.9687</td>\n",
       "      <td>-4.0456</td>\n",
       "      <td>-20.4774</td>\n",
       "      <td>13.3216</td>\n",
       "      <td>0.2697</td>\n",
       "    </tr>\n",
       "    <tr>\n",
       "      <th>1</th>\n",
       "      <td>16.7545</td>\n",
       "      <td>7.6617</td>\n",
       "      <td>20.3725</td>\n",
       "      <td>14.5646</td>\n",
       "      <td>4.4275</td>\n",
       "      <td>0.3786</td>\n",
       "      <td>5.5799</td>\n",
       "      <td>14.0396</td>\n",
       "      <td>9.1891</td>\n",
       "      <td>15.3969</td>\n",
       "      <td>...</td>\n",
       "      <td>1.9399</td>\n",
       "      <td>-3.0252</td>\n",
       "      <td>1.9748</td>\n",
       "      <td>-13.4092</td>\n",
       "      <td>-18.5152</td>\n",
       "      <td>2.3076</td>\n",
       "      <td>-7.9200</td>\n",
       "      <td>-18.2568</td>\n",
       "      <td>6.6467</td>\n",
       "      <td>0.5892</td>\n",
       "    </tr>\n",
       "    <tr>\n",
       "      <th>2</th>\n",
       "      <td>9.4668</td>\n",
       "      <td>12.0664</td>\n",
       "      <td>12.4030</td>\n",
       "      <td>7.6377</td>\n",
       "      <td>12.9472</td>\n",
       "      <td>2.5837</td>\n",
       "      <td>0.6746</td>\n",
       "      <td>30.2503</td>\n",
       "      <td>8.5338</td>\n",
       "      <td>20.5501</td>\n",
       "      <td>...</td>\n",
       "      <td>1.7037</td>\n",
       "      <td>-2.5483</td>\n",
       "      <td>6.5184</td>\n",
       "      <td>4.3979</td>\n",
       "      <td>8.4897</td>\n",
       "      <td>1.6554</td>\n",
       "      <td>4.3979</td>\n",
       "      <td>-6.5988</td>\n",
       "      <td>7.2933</td>\n",
       "      <td>0.4764</td>\n",
       "    </tr>\n",
       "    <tr>\n",
       "      <th>3</th>\n",
       "      <td>26.8162</td>\n",
       "      <td>8.8744</td>\n",
       "      <td>20.3822</td>\n",
       "      <td>18.5070</td>\n",
       "      <td>2.9100</td>\n",
       "      <td>1.0886</td>\n",
       "      <td>4.7989</td>\n",
       "      <td>30.5574</td>\n",
       "      <td>5.0428</td>\n",
       "      <td>20.8858</td>\n",
       "      <td>...</td>\n",
       "      <td>2.1528</td>\n",
       "      <td>-4.0328</td>\n",
       "      <td>0.9672</td>\n",
       "      <td>-9.6428</td>\n",
       "      <td>-13.6126</td>\n",
       "      <td>1.5819</td>\n",
       "      <td>-7.2220</td>\n",
       "      <td>-8.4073</td>\n",
       "      <td>0.2581</td>\n",
       "      <td>2.4757</td>\n",
       "    </tr>\n",
       "    <tr>\n",
       "      <th>4</th>\n",
       "      <td>15.1374</td>\n",
       "      <td>12.5038</td>\n",
       "      <td>14.1049</td>\n",
       "      <td>14.5273</td>\n",
       "      <td>6.1796</td>\n",
       "      <td>2.4358</td>\n",
       "      <td>0.9609</td>\n",
       "      <td>14.0903</td>\n",
       "      <td>5.2872</td>\n",
       "      <td>20.9895</td>\n",
       "      <td>...</td>\n",
       "      <td>1.5428</td>\n",
       "      <td>-2.9943</td>\n",
       "      <td>2.0057</td>\n",
       "      <td>-7.5071</td>\n",
       "      <td>-14.6036</td>\n",
       "      <td>3.7810</td>\n",
       "      <td>-10.1215</td>\n",
       "      <td>-8.7819</td>\n",
       "      <td>0.3101</td>\n",
       "      <td>3.4917</td>\n",
       "    </tr>\n",
       "  </tbody>\n",
       "</table>\n",
       "<p>5 rows × 23 columns</p>\n",
       "</div>"
      ],
      "text/plain": [
       "        f0       f1       f2       f3       f4      f5      f6       f7  \\\n",
       "0  15.9510   8.8893  17.5399   9.1624  14.8633  0.5092  4.0896  26.0658   \n",
       "1  16.7545   7.6617  20.3725  14.5646   4.4275  0.3786  5.5799  14.0396   \n",
       "2   9.4668  12.0664  12.4030   7.6377  12.9472  2.5837  0.6746  30.2503   \n",
       "3  26.8162   8.8744  20.3822  18.5070   2.9100  1.0886  4.7989  30.5574   \n",
       "4  15.1374  12.5038  14.1049  14.5273   6.1796  2.4358  0.9609  14.0903   \n",
       "\n",
       "       f8       f9  ...     f13      f14     f15      f16      f17     f18  \\\n",
       "0  4.8679  21.1590  ...  2.3355 -11.1718  9.6776 -16.1713 -13.3087  0.9687   \n",
       "1  9.1891  15.3969  ...  1.9399  -3.0252  1.9748 -13.4092 -18.5152  2.3076   \n",
       "2  8.5338  20.5501  ...  1.7037  -2.5483  6.5184   4.3979   8.4897  1.6554   \n",
       "3  5.0428  20.8858  ...  2.1528  -4.0328  0.9672  -9.6428 -13.6126  1.5819   \n",
       "4  5.2872  20.9895  ...  1.5428  -2.9943  2.0057  -7.5071 -14.6036  3.7810   \n",
       "\n",
       "       f19      f20      f21     f22  \n",
       "0  -4.0456 -20.4774  13.3216  0.2697  \n",
       "1  -7.9200 -18.2568   6.6467  0.5892  \n",
       "2   4.3979  -6.5988   7.2933  0.4764  \n",
       "3  -7.2220  -8.4073   0.2581  2.4757  \n",
       "4 -10.1215  -8.7819   0.3101  3.4917  \n",
       "\n",
       "[5 rows x 23 columns]"
      ]
     },
     "execution_count": 54,
     "metadata": {},
     "output_type": "execute_result"
    }
   ],
   "source": [
    "test_data.head()"
   ]
  },
  {
   "cell_type": "code",
   "execution_count": 67,
   "metadata": {},
   "outputs": [],
   "source": [
    "y = train_data['class']\n",
    "x = train_data[['f0','f1','f2','f3','f4','f5','f6','f7','f8','f9','f10','f11','f12','f13','f14','f15','f16','f17','f18','f19','f20','f21','f22']]\n",
    "\n",
    "train_data_ans = train_data['class']\n",
    "train_data_set = train_data[['f0','f1','f2','f3','f4','f5','f6','f7','f8','f9','f10','f11','f12','f13','f14','f15','f16','f17','f18','f19','f20','f21','f22']]"
   ]
  },
  {
   "cell_type": "code",
   "execution_count": 56,
   "metadata": {},
   "outputs": [],
   "source": [
    "# Split training data for test data\n",
    "sp_train_data, sp_test_data = train_test_split(train_data, test_size=0.1, random_state=100)\n",
    "\n",
    "sp_train_data_ans = sp_train_data['class']\n",
    "sp_train_data_set = sp_train_data[['f0','f1','f2','f3','f4','f5','f6','f7','f8','f9','f10','f11','f12','f13','f14','f15','f16','f17','f18','f19','f20','f21','f22']]\n",
    "\n",
    "sp_test_data_ans = sp_test_data['class']\n",
    "sp_test_data_set = sp_test_data[['f0','f1','f2','f3','f4','f5','f6','f7','f8','f9','f10','f11','f12','f13','f14','f15','f16','f17','f18','f19','f20','f21','f22']]"
   ]
  },
  {
   "cell_type": "code",
   "execution_count": 57,
   "metadata": {},
   "outputs": [
    {
     "name": "stdout",
     "output_type": "stream",
     "text": [
      "9000\n",
      "1000\n"
     ]
    }
   ],
   "source": [
    "print(len(sp_train_data))\n",
    "print(len(sp_test_data))"
   ]
  },
  {
   "cell_type": "code",
   "execution_count": 58,
   "metadata": {},
   "outputs": [
    {
     "name": "stdout",
     "output_type": "stream",
     "text": [
      "[LibSVM]"
     ]
    }
   ],
   "source": [
    "clf = SVC(C=2.0, kernel='linear', verbose=1, random_state = 87, gamma=0.87) \n",
    "output_clf = clf.fit(sp_train_data_set, sp_train_data_ans)"
   ]
  },
  {
   "cell_type": "code",
   "execution_count": 59,
   "metadata": {},
   "outputs": [
    {
     "data": {
      "text/plain": [
       "0.994"
      ]
     },
     "execution_count": 59,
     "metadata": {},
     "output_type": "execute_result"
    }
   ],
   "source": [
    "output_clf.score(sp_test_data_set, sp_test_data_ans)"
   ]
  },
  {
   "cell_type": "code",
   "execution_count": 162,
   "metadata": {},
   "outputs": [
    {
     "data": {
      "text/plain": [
       "1.0"
      ]
     },
     "execution_count": 162,
     "metadata": {},
     "output_type": "execute_result"
    }
   ],
   "source": [
    "# MLP Training\n",
    "# hidden_layer_sizes=(23,) = 0.998\n",
    "# hidden_layer_sizes=(46,) = 0.9992\n",
    "# hidden_layer_sizes=(100) = 1.0\n",
    "#1e-05\n",
    "mlp = MLPClassifier(alpha=0.00005, hidden_layer_sizes=(23), random_state=1, solver='lbfgs', max_iter=50000000, verbose=1)\n",
    "mlp.fit(train_data_set, train_data_ans)\n",
    "mlp.score(sp_test_data_set, sp_test_data_ans)"
   ]
  },
  {
   "cell_type": "code",
   "execution_count": 163,
   "metadata": {},
   "outputs": [
    {
     "data": {
      "text/plain": [
       "1.0"
      ]
     },
     "execution_count": 163,
     "metadata": {},
     "output_type": "execute_result"
    }
   ],
   "source": [
    "mlp.score(train_data_set, train_data_ans)"
   ]
  },
  {
   "cell_type": "code",
   "execution_count": 170,
   "metadata": {},
   "outputs": [
    {
     "data": {
      "text/plain": [
       "0.0022578493420907265"
      ]
     },
     "execution_count": 170,
     "metadata": {},
     "output_type": "execute_result"
    }
   ],
   "source": [
    "mlp.loss_"
   ]
  },
  {
   "cell_type": "code",
   "execution_count": 171,
   "metadata": {},
   "outputs": [],
   "source": [
    "test_x = test_data[['f0','f1','f2','f3','f4','f5','f6','f7','f8','f9','f10','f11','f12','f13','f14','f15','f16','f17','f18','f19','f20','f21','f22']]"
   ]
  },
  {
   "cell_type": "code",
   "execution_count": 172,
   "metadata": {},
   "outputs": [],
   "source": [
    "y_pred = mlp.predict(test_x)"
   ]
  },
  {
   "cell_type": "code",
   "execution_count": 173,
   "metadata": {},
   "outputs": [],
   "source": [
    "number = np.arange(1,len(y_pred)+1)"
   ]
  },
  {
   "cell_type": "code",
   "execution_count": 174,
   "metadata": {
    "scrolled": true
   },
   "outputs": [
    {
     "data": {
      "text/html": [
       "<div>\n",
       "<style scoped>\n",
       "    .dataframe tbody tr th:only-of-type {\n",
       "        vertical-align: middle;\n",
       "    }\n",
       "\n",
       "    .dataframe tbody tr th {\n",
       "        vertical-align: top;\n",
       "    }\n",
       "\n",
       "    .dataframe thead th {\n",
       "        text-align: right;\n",
       "    }\n",
       "</style>\n",
       "<table border=\"1\" class=\"dataframe\">\n",
       "  <thead>\n",
       "    <tr style=\"text-align: right;\">\n",
       "      <th></th>\n",
       "      <th>id</th>\n",
       "      <th>Predicted</th>\n",
       "    </tr>\n",
       "  </thead>\n",
       "  <tbody>\n",
       "    <tr>\n",
       "      <th>0</th>\n",
       "      <td>1</td>\n",
       "      <td>A</td>\n",
       "    </tr>\n",
       "    <tr>\n",
       "      <th>1</th>\n",
       "      <td>2</td>\n",
       "      <td>B</td>\n",
       "    </tr>\n",
       "    <tr>\n",
       "      <th>2</th>\n",
       "      <td>3</td>\n",
       "      <td>C</td>\n",
       "    </tr>\n",
       "    <tr>\n",
       "      <th>3</th>\n",
       "      <td>4</td>\n",
       "      <td>D</td>\n",
       "    </tr>\n",
       "    <tr>\n",
       "      <th>4</th>\n",
       "      <td>5</td>\n",
       "      <td>E</td>\n",
       "    </tr>\n",
       "  </tbody>\n",
       "</table>\n",
       "</div>"
      ],
      "text/plain": [
       "   id Predicted\n",
       "0   1         A\n",
       "1   2         B\n",
       "2   3         C\n",
       "3   4         D\n",
       "4   5         E"
      ]
     },
     "execution_count": 174,
     "metadata": {},
     "output_type": "execute_result"
    }
   ],
   "source": [
    "sample = pd.read_csv('data/task3.SAMPLE.submission.csv')\n",
    "sample.head()"
   ]
  },
  {
   "cell_type": "code",
   "execution_count": 175,
   "metadata": {},
   "outputs": [],
   "source": [
    "submission = {'Id':number, 'Predicted':y_pred}\n",
    "df = pd.DataFrame(submission,  columns= ['Id', 'Predicted'])"
   ]
  },
  {
   "cell_type": "code",
   "execution_count": 176,
   "metadata": {},
   "outputs": [],
   "source": [
    "df.to_csv(\"submission.csv\", index = False, header=True)"
   ]
  },
  {
   "cell_type": "code",
   "execution_count": null,
   "metadata": {},
   "outputs": [],
   "source": []
  }
 ],
 "metadata": {
  "kernelspec": {
   "display_name": "Python 3",
   "language": "python",
   "name": "python3"
  },
  "language_info": {
   "codemirror_mode": {
    "name": "ipython",
    "version": 3
   },
   "file_extension": ".py",
   "mimetype": "text/x-python",
   "name": "python",
   "nbconvert_exporter": "python",
   "pygments_lexer": "ipython3",
   "version": "3.8.5"
  }
 },
 "nbformat": 4,
 "nbformat_minor": 4
}
